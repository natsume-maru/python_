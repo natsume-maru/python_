{
 "cells": [
  {
   "cell_type": "markdown",
   "id": "1ea076af",
   "metadata": {},
   "source": [
    "## Newton Method (post quiz submission)"
   ]
  },
  {
   "cell_type": "markdown",
   "id": "3a23fe8a",
   "metadata": {},
   "source": [
    "Given the function:\n",
    "$$f(x) = x^3 - 6x^2 + 4x + 12$$\n",
    "\n",
    "Find the x-value that minimizes $f(x)$ in the interval $[2, 5]$."
   ]
  },
  {
   "cell_type": "code",
   "execution_count": 1,
   "id": "358e9185",
   "metadata": {},
   "outputs": [
    {
     "data": {
      "image/png": "[encoded data removed]",
      "text/plain": [
       "<Figure size 432x288 with 1 Axes>"
      ]
     },
     "metadata": {
      "needs_background": "light"
     },
     "output_type": "display_data"
    }
   ],
   "source": [
    "import numpy as np\n",
    "import math\n",
    "import matplotlib.pyplot as plt\n",
    "def f(x):\n",
    "    return x**3-6*x**2+4*x+12\n",
    "x = np.linspace(2,5)\n",
    "fig, ax = plt.subplots()\n",
    "ax.plot(x, f(x), label='target')\n",
    "ax.grid()"
   ]
  },
  {
   "cell_type": "markdown",
   "id": "5a187670",
   "metadata": {},
   "source": [
    "Given the function:\n",
    "$f(x) = x^3 - 6x^2 + 4x + 12$ <br>\n",
    "\n",
    "We get the derivatives and quadratic approximation: <br>\n",
    "$f'(x) = 3x^2 - 12x + 4$ <br>\n",
    "$f''(x) = 6x - 12$ <br>\n",
    "\n",
    "To get the quadratic approximation, we will use Newton's Method:<br>\n",
    "$x(n+1) = x_n - \\frac {f(x_n)}{f'(x_n)} $ <br>\n",
    "where:<br>\n",
    "$x_n+1$ = updated value\n"
   ]
  },
  {
   "cell_type": "code",
   "execution_count": 2,
   "id": "7c40ebd1",
   "metadata": {},
   "outputs": [],
   "source": [
    "def f0(x):\n",
    "    return 3*x**2-12*x+4\n",
    "def f1(x):\n",
    "    return 6*x - 12"
   ]
  },
  {
   "cell_type": "code",
   "execution_count": 3,
   "id": "f8a58ffc",
   "metadata": {},
   "outputs": [],
   "source": [
    "initial_value = 50\n",
    "\n",
    "#Initialize to count total iterations\n",
    "iterations = 0\n",
    "\n",
    "#Initialize a container for target variable\n",
    "x_curr = initial_value\n",
    "\n",
    "#Setting epsilon - threshold (0.00001)\n",
    "epsilon = 0.00001\n",
    "\n",
    "#Function Value at Current Step\n",
    "f = f0(x_curr)"
   ]
  },
  {
   "cell_type": "code",
   "execution_count": 4,
   "id": "3fb56484",
   "metadata": {
    "scrolled": true
   },
   "outputs": [
    {
     "name": "stdout",
     "output_type": "stream",
     "text": [
      "26.02777777777778\n",
      "14.06938021836866\n",
      "8.145162503724034\n",
      "5.289554087409542\n",
      "4.050100469890873\n",
      "3.6754248643431398\n",
      "3.633530473141181\n",
      "3.632993250223383\n",
      "3.632993161855455\n"
     ]
    }
   ],
   "source": [
    "while (abs(f) > epsilon):\n",
    "    \n",
    "    #Calculate function values\n",
    "    f = f0(x_curr)\n",
    "    f_prime = f1(x_curr)\n",
    "    \n",
    "    #Update the value of the variable as long as the threshold has not been met\n",
    "    x_curr = x_curr - (f)/(f_prime)\n",
    "    \n",
    "    #Update Iterations Count\n",
    "    iterations += 1\n",
    "    print(x_curr)"
   ]
  },
  {
   "cell_type": "markdown",
   "id": "dea3a3ed",
   "metadata": {},
   "source": [
    "## Root-finding function using Newton's Method"
   ]
  },
  {
   "cell_type": "code",
   "execution_count": 15,
   "id": "fae40045",
   "metadata": {},
   "outputs": [
    {
     "name": "stdout",
     "output_type": "stream",
     "text": [
      "SUCCESS! Algorithm converged after 9 iterations. An optimum can be found at point: 3.632993161855455\n"
     ]
    },
    {
     "data": {
      "text/plain": [
       "3.632993161855455"
      ]
     },
     "execution_count": 15,
     "metadata": {},
     "output_type": "execute_result"
    }
   ],
   "source": [
    "def newtons_method(root_func, first_prime, eps, initial):\n",
    "    ''' Finds a root of a function using Newton's method.\n",
    "    \n",
    "    Parameters:\n",
    "        root_func (function)    : The function for which roots are being solved.\n",
    "        first_prime (function)  : The first derivative of the root_func parameter.\n",
    "        eps (float)             : Error threshold value, indicating when the root is considered found.\n",
    "        initial (float)         : Initial value of the variable.\n",
    "        \n",
    "    Returns:\n",
    "        The final value of the variable for which a local optimal value is found.\n",
    "    '''\n",
    "    \n",
    "    # Initialize a container for the target variable\n",
    "    x_curr = initial\n",
    "    \n",
    "    # Total iterations\n",
    "    iterations = 0\n",
    "    \n",
    "    # Update the variable until the threshold is met\n",
    "    while True:\n",
    "        # Calculate function values\n",
    "        f = root_func(x_curr)\n",
    "        f_prime = first_prime(x_curr)\n",
    "        \n",
    "        # Update the value of the variable using Newton's method\n",
    "        x_next = x_curr - (f)/(f_prime)\n",
    "        \n",
    "        # Update the current variable for the next iteration\n",
    "        x_curr = x_next\n",
    "                \n",
    "        \n",
    "        # Increment the iteration count\n",
    "        iterations += 1\n",
    "        \n",
    "        # Check if the absolute value of f is smaller than the threshold (eps)\n",
    "        if abs(f) <= eps:\n",
    "            print(f\"SUCCESS! Algorithm converged after {iterations} iterations. An optimum can be found at point: {x_curr}\")\n",
    "            return x_curr\n",
    "\n",
    "\n",
    "def f0(x):\n",
    "    return 3*x**2-12*x+4\n",
    "def f1(x):\n",
    "    return 6*x - 12\n",
    "\n",
    "# Call the newtons_method function with the provided functions\n",
    "newtons_method(f0, f1, 0.00001, 50)"
   ]
  },
  {
   "cell_type": "code",
   "execution_count": 11,
   "id": "0d342db1",
   "metadata": {},
   "outputs": [
    {
     "ename": "KeyboardInterrupt",
     "evalue": "",
     "output_type": "error",
     "traceback": [
      "\u001b[1;31m---------------------------------------------------------------------------\u001b[0m",
      "\u001b[1;31mKeyboardInterrupt\u001b[0m                         Traceback (most recent call last)",
      "Input \u001b[1;32mIn [11]\u001b[0m, in \u001b[0;36m<cell line: 47>\u001b[1;34m()\u001b[0m\n\u001b[0;32m     44\u001b[0m     \u001b[38;5;28;01mreturn\u001b[39;00m \u001b[38;5;241m6\u001b[39m\u001b[38;5;241m*\u001b[39mx \u001b[38;5;241m-\u001b[39m \u001b[38;5;241m12\u001b[39m\n\u001b[0;32m     46\u001b[0m \u001b[38;5;66;03m# Call the newtons_method function with the provided functions\u001b[39;00m\n\u001b[1;32m---> 47\u001b[0m \u001b[43mnewtons_method\u001b[49m\u001b[43m(\u001b[49m\u001b[43mf0\u001b[49m\u001b[43m,\u001b[49m\u001b[43m \u001b[49m\u001b[43mf1\u001b[49m\u001b[43m,\u001b[49m\u001b[43m \u001b[49m\u001b[38;5;241;43m0.00001\u001b[39;49m\u001b[43m,\u001b[49m\u001b[43m \u001b[49m\u001b[38;5;241;43m50\u001b[39;49m\u001b[43m)\u001b[49m\n",
      "Input \u001b[1;32mIn [11]\u001b[0m, in \u001b[0;36mnewtons_method\u001b[1;34m(root_func, first_prime, eps, initial)\u001b[0m\n\u001b[0;32m     24\u001b[0m \u001b[38;5;66;03m# Update the variable until the threshold is met\u001b[39;00m\n\u001b[0;32m     25\u001b[0m \u001b[38;5;28;01mwhile\u001b[39;00m (\u001b[38;5;28mabs\u001b[39m(f) \u001b[38;5;241m>\u001b[39m epsilon):\n\u001b[0;32m     26\u001b[0m     \n\u001b[0;32m     27\u001b[0m     \u001b[38;5;66;03m# Update the value of the variable using Newton's method\u001b[39;00m\n\u001b[1;32m---> 28\u001b[0m     x_next \u001b[38;5;241m=\u001b[39m \u001b[43mx_curr\u001b[49m\u001b[43m \u001b[49m\u001b[38;5;241;43m-\u001b[39;49m\u001b[43m \u001b[49m\u001b[43mf\u001b[49m\u001b[43m \u001b[49m\u001b[38;5;241;43m/\u001b[39;49m\u001b[43m \u001b[49m\u001b[43mf_prime\u001b[49m\n\u001b[0;32m     30\u001b[0m     \u001b[38;5;66;03m# Check if the absolute value of f is smaller than the threshold (eps)\u001b[39;00m\n\u001b[0;32m     31\u001b[0m     \u001b[38;5;28;01mif\u001b[39;00m \u001b[38;5;28mabs\u001b[39m(f) \u001b[38;5;241m<\u001b[39m\u001b[38;5;241m=\u001b[39m eps:\n",
      "\u001b[1;31mKeyboardInterrupt\u001b[0m: "
     ]
    }
   ],
   "source": [
    "def newtons_method(root_func, first_prime, eps, initial):\n",
    "    ''' Finds a root of a function using Newton's method.\n",
    "    \n",
    "    Parameters:\n",
    "        root_func (function)    : The function for which roots are being solved.\n",
    "        first_prime (function)  : The first derivative of the root_func parameter.\n",
    "        eps (float)             : Error threshold value, indicating when the root is considered found.\n",
    "        initial (float)         : Initial value of the variable.\n",
    "        \n",
    "    Returns:\n",
    "        The final value of the variable for which a local optimal value is found.\n",
    "    '''\n",
    "    \n",
    "    # Initialize a container for the target variable\n",
    "    x_curr = initial\n",
    "    \n",
    "    # Total iterations\n",
    "    iterations = 0\n",
    "    \n",
    "    # Calculate function values\n",
    "    f = root_func(x_curr)\n",
    "    f_prime = first_prime(x_curr)\n",
    "    \n",
    "    # Update the variable until the threshold is met\n",
    "    while (abs(f) > epsilon):\n",
    "        \n",
    "        # Update the value of the variable using Newton's method\n",
    "        x_next = x_curr - f / f_prime\n",
    "        \n",
    "        # Check if the absolute value of f is smaller than the threshold (eps)\n",
    "        if abs(f) <= eps:\n",
    "            print(f\"SUCCESS! Algorithm converged after {iterations} iterations. An optimum can be found at point: {x_curr}\")\n",
    "            return x_curr\n",
    "        \n",
    "        # Update the current variable for the next iteration\n",
    "        x_curr = x_next\n",
    "        \n",
    "        # Increment the iteration count\n",
    "        iterations += 1\n",
    "\n",
    "def f0(x):\n",
    "    return 3*x**2-12*x+4\n",
    "def f1(x):\n",
    "    return 6*x - 12\n",
    "\n",
    "# Call the newtons_method function with the provided functions\n",
    "newtons_method(f0, f1, 0.00001, 50)"
   ]
  },
  {
   "cell_type": "code",
   "execution_count": null,
   "id": "49371adb",
   "metadata": {},
   "outputs": [],
   "source": [
    "from scipy.optimize import newton\n",
    "newton(func=f0,x0=50,fprime=f1, tol=0.0001)"
   ]
  },
  {
   "cell_type": "markdown",
   "id": "7a5e40a1",
   "metadata": {},
   "source": [
    "## Newton's Method via Scipy"
   ]
  },
  {
   "cell_type": "code",
   "execution_count": 7,
   "id": "550b61df",
   "metadata": {},
   "outputs": [
    {
     "data": {
      "text/plain": [
       "3.632993161855455"
      ]
     },
     "execution_count": 7,
     "metadata": {},
     "output_type": "execute_result"
    }
   ],
   "source": [
    "from scipy.optimize import newton\n",
    "newton(func=f0,x0=50,fprime=f1, tol=0.0001)"
   ]
  },
  {
   "cell_type": "code",
   "execution_count": null,
   "id": "00d43b0f",
   "metadata": {},
   "outputs": [],
   "source": []
  },
  {
   "cell_type": "code",
   "execution_count": null,
   "id": "37c7dc74",
   "metadata": {},
   "outputs": [],
   "source": []
  }
 ],
 "metadata": {
  "kernelspec": {
   "display_name": "Python 3 (ipykernel)",
   "language": "python",
   "name": "python3"
  },
  "language_info": {
   "codemirror_mode": {
    "name": "ipython",
    "version": 3
   },
   "file_extension": ".py",
   "mimetype": "text/x-python",
   "name": "python",
   "nbconvert_exporter": "python",
   "pygments_lexer": "ipython3",
   "version": "3.9.12"
  }
 },
 "nbformat": 4,
 "nbformat_minor": 5
}
